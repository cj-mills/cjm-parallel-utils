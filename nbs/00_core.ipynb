{
 "cells": [
  {
   "cell_type": "markdown",
   "metadata": {},
   "source": [
    "# core\n",
    "\n",
    "> Utility functions for parallel operations."
   ]
  },
  {
   "cell_type": "code",
   "execution_count": null,
   "metadata": {},
   "outputs": [],
   "source": [
    "#| default_exp core"
   ]
  },
  {
   "cell_type": "code",
   "execution_count": null,
   "metadata": {},
   "outputs": [],
   "source": [
    "#| hide\n",
    "from nbdev.showdoc import *"
   ]
  },
  {
   "cell_type": "code",
   "execution_count": null,
   "metadata": {},
   "outputs": [],
   "source": [
    "#| export\n",
    "# Import partial from the functools module\n",
    "from functools import partial\n",
    "\n",
    "# Import the os and time modules from the Python Standard Library\n",
    "import os\n",
    "import time\n",
    "\n",
    "# Import the queue module from the concurrent package\n",
    "import queue\n",
    "\n",
    "# Import the Collection generic type from the typing module\n",
    "from typing import Collection\n",
    "\n",
    "# Import the ThreadPoolExecutor and ProcessPoolExecutor classes from the concurrent.futures module\n",
    "# and alias them as tpe and ppe, respectively\n",
    "from concurrent.futures import ThreadPoolExecutor as tpe\n",
    "from concurrent.futures import ProcessPoolExecutor as ppe\n",
    "\n",
    "# Import the as_completed function from the concurrent.futures module\n",
    "from concurrent.futures import as_completed\n",
    "\n",
    "# Import progress_bar\n",
    "from tqdm.auto import tqdm"
   ]
  },
  {
   "cell_type": "code",
   "execution_count": null,
   "metadata": {},
   "outputs": [],
   "source": []
  },
  {
   "cell_type": "code",
   "execution_count": null,
   "metadata": {},
   "outputs": [],
   "source": [
    "#| export\n",
    "def parallel(func, # The function to be executed\n",
    "             arr:Collection, # The input collection\n",
    "             max_workers:int=None, # The maximum number of workers to use\n",
    "             leave=False, # Whether to leave the progress bar after completion\n",
    "             use_threads=True # Whether to use threads or processes as workers\n",
    "            ):\n",
    "    \"\"\"\n",
    "    Execute the function in parallel on the elements of the input collection.\n",
    "    \n",
    "    Returns:\n",
    "    results (list): A list of the results of the function execution\n",
    "    \"\"\"\n",
    "    # Use the number of CPU cores if max_workers is not specified\n",
    "    max_workers = os.cpu_count() if max_workers is None else max_workers\n",
    "    \n",
    "    if max_workers<2: \n",
    "        # Use a simple for loop if max_workers is less than 2\n",
    "        results = [func(o) for o in tqdm(arr, total=len(arr), leave=leave)]\n",
    "    else:\n",
    "        # Use either ThreadPoolExecutor or ProcessPoolExecutor based on use_threads\n",
    "        executor = tpe(max_workers) if use_threads == True else ppe(max_workers)\n",
    "        \n",
    "        with executor:\n",
    "            # Submit the function and input to the executor\n",
    "            futures = [executor.submit(func,o) for o in arr]\n",
    "            results = []\n",
    "            \n",
    "            # Append the result of the function execution as soon as it is done\n",
    "            for f in tqdm(as_completed(futures), total=len(arr), leave=leave):\n",
    "                results.append(f.result())\n",
    "    \n",
    "    # Return the results if any of the results is not None\n",
    "    if any([o is not None for o in results]): return results"
   ]
  },
  {
   "cell_type": "code",
   "execution_count": null,
   "metadata": {},
   "outputs": [
    {
     "data": {
      "text/plain": [
       "[0, 1, 2, 3, 4, 5, 6, 7, 8, 9]"
      ]
     },
     "execution_count": null,
     "metadata": {},
     "output_type": "execute_result"
    }
   ],
   "source": [
    "test_array = list(range(10))\n",
    "test_array"
   ]
  },
  {
   "cell_type": "code",
   "execution_count": null,
   "metadata": {},
   "outputs": [],
   "source": [
    "def test_func(index, array):\n",
    "    array[index]*=2"
   ]
  },
  {
   "cell_type": "code",
   "execution_count": null,
   "metadata": {},
   "outputs": [
    {
     "data": {
      "application/vnd.jupyter.widget-view+json": {
       "model_id": "6d372c1f9d944869a36918efaf2fceb3",
       "version_major": 2,
       "version_minor": 0
      },
      "text/plain": [
       "  0%|          | 0/10 [00:00<?, ?it/s]"
      ]
     },
     "metadata": {},
     "output_type": "display_data"
    }
   ],
   "source": [
    "partial_func = partial(test_func, array=test_array)\n",
    "parallel(partial_func, arr=range(len(test_array)), leave=True)"
   ]
  },
  {
   "cell_type": "code",
   "execution_count": null,
   "metadata": {},
   "outputs": [
    {
     "data": {
      "text/plain": [
       "[0, 2, 4, 6, 8, 10, 12, 14, 16, 18]"
      ]
     },
     "execution_count": null,
     "metadata": {},
     "output_type": "execute_result"
    }
   ],
   "source": [
    "test_array"
   ]
  },
  {
   "cell_type": "code",
   "execution_count": null,
   "metadata": {},
   "outputs": [],
   "source": []
  },
  {
   "cell_type": "code",
   "execution_count": null,
   "metadata": {},
   "outputs": [],
   "source": []
  },
  {
   "cell_type": "code",
   "execution_count": null,
   "metadata": {},
   "outputs": [],
   "source": [
    "#| hide\n",
    "import nbdev; nbdev.nbdev_export()"
   ]
  }
 ],
 "metadata": {
  "kernelspec": {
   "display_name": "Python 3 (ipykernel)",
   "language": "python",
   "name": "python3"
  }
 },
 "nbformat": 4,
 "nbformat_minor": 4
}
